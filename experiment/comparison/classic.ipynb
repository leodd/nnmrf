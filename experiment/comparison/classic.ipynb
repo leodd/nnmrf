{
 "cells": [
  {
   "cell_type": "code",
   "execution_count": 2778,
   "metadata": {
    "collapsed": true,
    "pycharm": {
     "is_executing": false
    }
   },
   "outputs": [],
   "source": [
    "import os\n",
    "import numpy as np\n",
    "import pandas as pd\n",
    "import matplotlib.pyplot as plt\n",
    "import seaborn as sns\n",
    "%matplotlib inline\n",
    "\n",
    "datasets = {'iris': {'n': 4, 'c': 3, 'size': 50, 'vs': 10},\n",
    "                'seeds': {'n': 7, 'c': 3, 'size': 70, 'vs': 15},\n",
    "                'sonar': {'n': 60, 'c': 2, 'size': 111, 'vs': 20},\n",
    "                'banknote': {'n': 4, 'c': 2, 'size': 762, 'vs': 100},\n",
    "                'leaf': {'n': 14, 'c': 2, 'size': 169, 'vs': 33},\n",
    "                'glass': {'n': 9, 'c': 2, 'size': 87, 'vs': 17},\n",
    "                'electricity': {'n': 13, 'c': 2, 'size': 3620, 'vs': 420},\n",
    "                'protein': {'n': 7, 'c': 2, 'size': 143, 'vs': 33},\n",
    "                'mnist10': {'n': 100, 'c': 10, 'size': 7877, 'vs': 1000},}\n",
    "name =  'mnist10'\n",
    "cls = datasets[name]['c']\n",
    "csize = datasets[name]['size']\n",
    "n = datasets[name]['n']\n",
    "data = pd.read_csv(f'../../data/{name}/{name}.data', header=None)\n",
    "# Checking the dataset\n",
    "# data.head()\n",
    "# Creating a pairplot to visualize the similarities and especially difference between the species\n",
    "# sns.pairplot(data=iris, hue=0, palette='Set2')\n",
    "# sns.pairplot(data=iris, hue=1, palette='Set2')"
   ]
  },
  {
   "cell_type": "code",
   "execution_count": 2779,
   "outputs": [],
   "source": [
    "from sklearn.model_selection import train_test_split\n",
    "x = data\n",
    "lb = []\n",
    "for i in range(cls): lb += [i] * csize\n",
    "y = pd.DataFrame({'label': lb})\n",
    "x_train, x_test, y_train, y_test = train_test_split(x, y, test_size=0.2)"
   ],
   "metadata": {
    "collapsed": false,
    "pycharm": {
     "name": "#%%\n",
     "is_executing": false
    }
   }
  },
  {
   "cell_type": "code",
   "execution_count": 2780,
   "outputs": [],
   "source": [
    "# from sklearn.svm import SVC\n",
    "# model=SVC(C=2.0, tol=1e-7)\n",
    "# from sklearn.naive_bayes import GaussianNB\n",
    "# model = GaussianNB()\n",
    "# from sklearn.linear_model import LogisticRegression\n",
    "# model = LogisticRegression()\n",
    "# from sklearn.neural_network import MLPClassifier\n",
    "# model = MLPClassifier(hidden_layer_sizes=[n*3, n*5, n*3], max_iter=500)\n",
    "# from sklearn.tree import DecisionTreeClassifier\n",
    "# model = DecisionTreeClassifier()\n",
    "# from sklearn.ensemble import RandomForestClassifier\n",
    "# model = RandomForestClassifier(n_estimators=150, max_depth=5)\n",
    "# from sklearn.neighbors import KNeighborsClassifier\n",
    "# model = KNeighborsClassifier(n_neighbors=10, leaf_size=50, weights='distance')\n",
    "from sklearn.mixture import GaussianMixture\n",
    "model = GaussianMixture(n_components=cls, covariance_type='full', tol=1e-7, max_iter=10000, \n",
    "                        init_params= 'kmeans')"
   ],
   "metadata": {
    "collapsed": false,
    "pycharm": {
     "name": "#%%\n",
     "is_executing": false
    }
   }
  },
  {
   "cell_type": "code",
   "execution_count": null,
   "outputs": [],
   "source": [
    "model.fit(x_train, y_train)"
   ],
   "metadata": {
    "collapsed": false,
    "pycharm": {
     "name": "#%%\n",
     "is_executing": true
    }
   }
  },
  {
   "cell_type": "code",
   "execution_count": null,
   "outputs": [],
   "source": [
    "pred_train=model.predict(x_train)\n",
    "pred_test=model.predict(x_test)"
   ],
   "metadata": {
    "collapsed": false,
    "pycharm": {
     "name": "#%%\n",
     "is_executing": true
    }
   }
  },
  {
   "cell_type": "code",
   "execution_count": null,
   "outputs": [],
   "source": [
    "# from sklearn.metrics import classification_report\n",
    "from sklearn.metrics import accuracy_score"
   ],
   "metadata": {
    "collapsed": false,
    "pycharm": {
     "name": "#%%\n",
     "is_executing": true
    }
   }
  },
  {
   "cell_type": "code",
   "execution_count": null,
   "outputs": [],
   "source": [
    "# print(confusion_matrix(y_test,pred))\n",
    "print('train_acc: ' + str(accuracy_score(y_train, pred_train)))\n",
    "print('valid_acc: ' + str(accuracy_score(y_test, pred_test)))\n",
    "print(sum(model.score_samples(x_train))/len(y_train))\n",
    "print(sum(model.score_samples(x_test))/len(y_test))"
   ],
   "metadata": {
    "collapsed": false,
    "pycharm": {
     "name": "#%%\n",
     "is_executing": true
    }
   }
  },
  {
   "cell_type": "code",
   "execution_count": null,
   "outputs": [],
   "source": [
    "# logp_train = model.predict_log_proba(x_train)\n",
    "# logp_test = model.predict_log_proba(x_test)\n",
    "# lp_train = [logp_train[i, y_train.iloc[i,0]] for i in range(len(y_train))]\n",
    "# lp_test = [logp_test[i, y_test.iloc[i,0]] for i in range(len(y_test))]\n",
    "# print(sum(lp_train)/len(lp_train))\n",
    "# print(sum(lp_test)/len(lp_test))\n",
    "\n",
    "# lld_train = model._joint_log_likelihood(x_train)\n",
    "# lld_test = model._joint_log_likelihood(x_test)\n",
    "# ld_train = [lld_train[i, y_train.iloc[i,0]] for i in range(len(y_train))]\n",
    "# ld_test = [lld_test[i, y_test.iloc[i,0]] for i in range(len(y_test))]\n",
    "# print(sum(ld_train)/len(ld_train))\n",
    "# print(sum(ld_test)/len(ld_test))\n",
    "\n",
    "\n",
    "# sample_size_each_class = 70\n",
    "# samples = \"\"\n",
    "# classes = [\"Kama\", \"Rosa\", \"Canadian\"]\n",
    "# shorts = [\"k\", \"r\", \"c\"]\n",
    "# mean = model.theta_ \n",
    "# variance = model.sigma_\n",
    "# \n",
    "# for i in range(np.size(model.classes_)):\n",
    "#     x = np.random.multivariate_normal(mean[i,:], np.diag(variance[i,:]), sample_size_each_class)\n",
    "#     # output format for t-SNE visualization\n",
    "#     for j, s in enumerate(x):\n",
    "#         item = f',[\"GNB-{shorts[i]}{j}\", \"{classes[i]}-GNB\",'\n",
    "#         for d in s:\n",
    "#             item += str(d) + \",\"\n",
    "#         samples += item + \"]\\n\"\n",
    "# \n",
    "# with open('samples_gnb.txt', 'a') as f:\n",
    "#     f.write(samples + '\\n')\n"
   ],
   "metadata": {
    "collapsed": false,
    "pycharm": {
     "name": "#%%\n",
     "is_executing": true
    }
   }
  },
  {
   "cell_type": "code",
   "execution_count": null,
   "outputs": [],
   "source": [],
   "metadata": {
    "collapsed": false,
    "pycharm": {
     "name": "#%%",
     "is_executing": true
    }
   }
  }
 ],
 "metadata": {
  "kernelspec": {
   "display_name": "Python 3",
   "language": "python",
   "name": "python3"
  },
  "language_info": {
   "codemirror_mode": {
    "name": "ipython",
    "version": 2
   },
   "file_extension": ".py",
   "mimetype": "text/x-python",
   "name": "python",
   "nbconvert_exporter": "python",
   "pygments_lexer": "ipython2",
   "version": "2.7.6"
  },
  "pycharm": {
   "stem_cell": {
    "cell_type": "raw",
    "source": [],
    "metadata": {
     "collapsed": false
    }
   }
  }
 },
 "nbformat": 4,
 "nbformat_minor": 0
}